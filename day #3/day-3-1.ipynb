{
 "cells": [
  {
   "cell_type": "markdown",
   "metadata": {},
   "source": [
    "# if statment 👇\n"
   ]
  },
  {
   "cell_type": "code",
   "execution_count": 5,
   "metadata": {},
   "outputs": [],
   "source": [
    "# how to use if statment ?\n",
    "# if condition:\n",
    "#   do this\n",
    "# else:\n",
    "#   do this "
   ]
  },
  {
   "cell_type": "code",
   "execution_count": 6,
   "metadata": {},
   "outputs": [
    {
     "name": "stdout",
     "output_type": "stream",
     "text": [
      "This is an even number.\n"
     ]
    }
   ],
   "source": [
    "# example!\n",
    "number = int(input(\"Which number do you want to check? \"))\n",
    "if number%2==0:\n",
    "    print(\"This is an even number.\")\n",
    "else:\n",
    "    print(\"This is an odd number.\")"
   ]
  },
  {
   "cell_type": "code",
   "execution_count": 7,
   "metadata": {},
   "outputs": [],
   "source": [
    "# how to use if / elif / else statment ?\n",
    "# if condition:\n",
    "#   do this\n",
    "# elif condtion:\n",
    "#   do this \n",
    "# else:\n",
    "#   do this "
   ]
  },
  {
   "cell_type": "code",
   "execution_count": 8,
   "metadata": {},
   "outputs": [
    {
     "name": "stdout",
     "output_type": "stream",
     "text": [
      "please pay 12$.\n"
     ]
    }
   ],
   "source": [
    "# Example!\n",
    "age=int(input(\"Enter your Age? \"))\n",
    "if age<12:\n",
    "    print(\"please pay 5$.\")\n",
    "elif age<=18:\n",
    "    print(\"please pay 7$.\")\n",
    "else:\n",
    "    print(\"please pay 12$.\")\n"
   ]
  },
  {
   "cell_type": "code",
   "execution_count": null,
   "metadata": {},
   "outputs": [],
   "source": [
    "# you can do anything using conditional statment 👆"
   ]
  }
 ],
 "metadata": {
  "kernelspec": {
   "display_name": "Python 3.9.10 64-bit",
   "language": "python",
   "name": "python3"
  },
  "language_info": {
   "codemirror_mode": {
    "name": "ipython",
    "version": 3
   },
   "file_extension": ".py",
   "mimetype": "text/x-python",
   "name": "python",
   "nbconvert_exporter": "python",
   "pygments_lexer": "ipython3",
   "version": "3.9.10"
  },
  "orig_nbformat": 4,
  "vscode": {
   "interpreter": {
    "hash": "e9843857e59ce461c94d8ba30eb7aa788c652fe5710e2bd20f5e914eb854d855"
   }
  }
 },
 "nbformat": 4,
 "nbformat_minor": 2
}
