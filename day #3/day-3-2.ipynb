{
 "cells": [
  {
   "cell_type": "markdown",
   "metadata": {},
   "source": [
    "# exercise to if / elif /else "
   ]
  },
  {
   "cell_type": "code",
   "execution_count": 11,
   "metadata": {},
   "outputs": [
    {
     "name": "stdout",
     "output_type": "stream",
     "text": [
      "Your BMI is 24, you are a normal weight.\n"
     ]
    }
   ],
   "source": [
    "weight = float(input(\"enter your weight in kg: \"))\n",
    "height = float(input(\"enter your height in m: \"))\n",
    "bmi =round(weight / height**2)\n",
    "if bmi<18.5:\n",
    "    print(f\"Your BMI is {bmi}, you are underweight.\")\n",
    "elif bmi <25:\n",
    "    print(f\"Your BMI is {bmi}, you are a normal weight.\")\n",
    "elif bmi<30:\n",
    "    print(f\"Your BMI is {bmi}, you are slightly overweight.\")\n",
    "elif bmi<35:\n",
    "    print(f\"Your BMI is {bmi}, you are obese.\")\n",
    "else:\n",
    "    print(f\"Your BMI is {bmi}, you are clinically obese.\")"
   ]
  }
 ],
 "metadata": {
  "kernelspec": {
   "display_name": "Python 3.9.10 64-bit",
   "language": "python",
   "name": "python3"
  },
  "language_info": {
   "codemirror_mode": {
    "name": "ipython",
    "version": 3
   },
   "file_extension": ".py",
   "mimetype": "text/x-python",
   "name": "python",
   "nbconvert_exporter": "python",
   "pygments_lexer": "ipython3",
   "version": "3.9.10"
  },
  "orig_nbformat": 4,
  "vscode": {
   "interpreter": {
    "hash": "e9843857e59ce461c94d8ba30eb7aa788c652fe5710e2bd20f5e914eb854d855"
   }
  }
 },
 "nbformat": 4,
 "nbformat_minor": 2
}
